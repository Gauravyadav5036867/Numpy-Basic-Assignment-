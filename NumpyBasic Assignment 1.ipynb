{
 "cells": [
  {
   "cell_type": "code",
   "execution_count": null,
   "id": "0d205616-c3fd-4d36-a66b-aba2a3b11851",
   "metadata": {},
   "outputs": [],
   "source": [
    "#Question 1\n",
    "\n",
    "there is a difference in the data types of list_ and array_list.\n",
    "\n",
    "list_ is a Python list.\n",
    "array_list is a NumPy array.\n",
    "\n",
    "\n",
    "import numpy as np\n",
    "\n",
    "list_ = ['1', '2', '3', '4', '5']\n",
    "array_list = np.array(list_)\n",
    "\n",
    "print(f\"The data type of list_ is: {type(list_)}\")\n",
    "print(f\"The data type of array_list is: {type(array_list)}\")\n",
    "print(f\"The data type of elements in array_list is: {array_list.dtype}\")\n"
   ]
  },
  {
   "cell_type": "code",
   "execution_count": null,
   "id": "87cfcbbe-bd39-4e8d-afa9-34ec049f3295",
   "metadata": {},
   "outputs": [],
   "source": [
    "#Question 2\n",
    "\n",
    "import numpy as np\n",
    "\n",
    "list_ = ['1', '2', '3', '4', '5']\n",
    "array_list = np.array(list_)\n",
    "\n",
    "print(\"Data types of each element in list_:\")\n",
    "for element in list_:\n",
    "    print(f\"Element: {element}, Type: {type(element)}\")\n",
    "\n",
    "print(\"\\nData types of each element in array_list:\")\n",
    "for element in array_list:\n",
    "    print(f\"Element: {element}, Type: {type(element)}\")\n"
   ]
  },
  {
   "cell_type": "code",
   "execution_count": null,
   "id": "fe2dcd63-e4c3-484f-b24d-ce1c7119cd68",
   "metadata": {},
   "outputs": [],
   "source": [
    "#Question 3\n",
    "\n",
    "import numpy as np\n",
    "\n",
    "list_ = ['1', '2', '3', '4', '5']\n",
    "array_list = np.array(list_, dtype=int)\n",
    "\n",
    "\n",
    "print(\"Data types of each element in list_:\")\n",
    "for element in list_:\n",
    "    print(f\"Element: {element}, Type: {type(element)}\")\n",
    "\n",
    "\n",
    "print(\"\\nData types of each element in array_list:\")\n",
    "for element in array_list:\n",
    "    print(f\"Element: {element}, Type: {type(element)}\")\n",
    "\n",
    "\n",
    "num_list = [[1, 2, 3], [4, 5, 6]]\n",
    "num_array = np.array(num_list)\n",
    "\n"
   ]
  },
  {
   "cell_type": "code",
   "execution_count": null,
   "id": "04d8ae65-56ca-46ac-937d-1e3147ca74eb",
   "metadata": {},
   "outputs": [],
   "source": [
    "#Question 4\n",
    "\n",
    "import numpy as np\n",
    "\n",
    "num_list = [[1, 2, 3], [4, 5, 6]]\n",
    "num_array = np.array(num_list)\n",
    "\n",
    "shape = num_array.shape\n",
    "\n",
    "size = num_array.size\n",
    "\n",
    "print(f\"Shape of num_array: {shape}\")\n",
    "print(f\"Size of num_array: {size}\")\n"
   ]
  },
  {
   "cell_type": "code",
   "execution_count": null,
   "id": "68667e55-a761-46ac-9602-79fff73ea848",
   "metadata": {},
   "outputs": [],
   "source": [
    "#Question 5\n",
    "\n",
    "import numpy as np\n",
    "\n",
    "\n",
    "zero_matrix = np.zeros((3, 3))\n",
    "\n",
    "print(\"3x3 Matrix containing zeros:\")\n",
    "print(zero_matrix)\n"
   ]
  },
  {
   "cell_type": "code",
   "execution_count": null,
   "id": "ebe84212-65c1-408e-91e3-b54bc8c3d866",
   "metadata": {},
   "outputs": [],
   "source": [
    "#Question 6\n",
    "\n"
   ]
  }
 ],
 "metadata": {
  "kernelspec": {
   "display_name": "Python 3 (ipykernel)",
   "language": "python",
   "name": "python3"
  },
  "language_info": {
   "codemirror_mode": {
    "name": "ipython",
    "version": 3
   },
   "file_extension": ".py",
   "mimetype": "text/x-python",
   "name": "python",
   "nbconvert_exporter": "python",
   "pygments_lexer": "ipython3",
   "version": "3.10.8"
  }
 },
 "nbformat": 4,
 "nbformat_minor": 5
}
